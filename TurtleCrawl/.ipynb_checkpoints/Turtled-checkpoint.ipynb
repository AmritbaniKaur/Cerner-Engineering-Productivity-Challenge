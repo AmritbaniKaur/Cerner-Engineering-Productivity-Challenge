{
 "cells": [
  {
   "cell_type": "markdown",
   "metadata": {},
   "source": [
    "# Turtle Crawl"
   ]
  },
  {
   "cell_type": "code",
   "execution_count": 1,
   "metadata": {},
   "outputs": [
    {
     "data": {
      "application/vnd.jupyter.widget-view+json": {
       "model_id": "090a0d2d85294dffb3b2e07659eb8077",
       "version_major": 2,
       "version_minor": 0
      },
      "text/plain": [
       "Turtle()"
      ]
     },
     "metadata": {},
     "output_type": "display_data"
    }
   ],
   "source": [
    "#cerner_2^5_2019\n",
    "from mobilechelonian import Turtle\n",
    "turtle = Turtle()\n",
    "turtle.speed(40)\n",
    "colours=[\"red\",\"yellow\"]\n",
    "\n",
    "turtle.penup()\n",
    "turtle.left(90)\n",
    "turtle.forward(200)\n",
    "turtle.right(90)\n",
    "turtle.pendown()\n",
    "\n",
    "for i in range (0,18):\n",
    "    turtle.pencolor(colours[i%2])\n",
    "    turtle.right(20)\n",
    "    turtle.forward(20)\n",
    "\n",
    "turtle.right(180)\n",
    "turtle.home()"
   ]
  }
 ],
 "metadata": {
  "kernelspec": {
   "display_name": "Python 3",
   "language": "python",
   "name": "python3"
  },
  "language_info": {
   "codemirror_mode": {
    "name": "ipython",
    "version": 3
   },
   "file_extension": ".py",
   "mimetype": "text/x-python",
   "name": "python",
   "nbconvert_exporter": "python",
   "pygments_lexer": "ipython3",
   "version": "3.7.3"
  }
 },
 "nbformat": 4,
 "nbformat_minor": 2
}
