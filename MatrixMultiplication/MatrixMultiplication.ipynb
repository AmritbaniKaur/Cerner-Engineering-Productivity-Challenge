{
 "cells": [
  {
   "cell_type": "code",
   "execution_count": 2,
   "metadata": {},
   "outputs": [
    {
     "name": "stdout",
     "output_type": "stream",
     "text": [
      "[[ 45 154 102  48]\n",
      " [ 40 200 115  50]\n",
      " [ 74 263 158  76]\n",
      " [ 42 200 100  48]]\n"
     ]
    }
   ],
   "source": [
    "# cerner_2^5_2019\n",
    "import numpy as np \n",
    "  \n",
    "# input two matrices \n",
    "mat1 = ([4, 7, 1, 4],[5, 4, 2, 8],[5, 12, 2, 5], [4, 6, 2, 4]) \n",
    "mat2 = ([0, 6, 3, 2],[5, 9, 8, 4],[2, 55, 6, 4], [2, 3, 7, 2]) \n",
    "  \n",
    "# returns the dot product \n",
    "result = np.dot(mat1,mat2) \n",
    "  \n",
    "# print resulted matrix \n",
    "print(result)"
   ]
  }
 ],
 "metadata": {
  "kernelspec": {
   "display_name": "Python 3",
   "language": "python",
   "name": "python3"
  },
  "language_info": {
   "codemirror_mode": {
    "name": "ipython",
    "version": 3
   },
   "file_extension": ".py",
   "mimetype": "text/x-python",
   "name": "python",
   "nbconvert_exporter": "python",
   "pygments_lexer": "ipython3",
   "version": "3.7.3"
  }
 },
 "nbformat": 4,
 "nbformat_minor": 2
}
